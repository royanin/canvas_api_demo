{
 "cells": [
  {
   "cell_type": "markdown",
   "metadata": {},
   "source": [
    "### Use Python API to interact with your Canvas courses: A quick guide\n",
    "\n",
    "This jupyter notebook is a quick intro on how you could use the Canvas API Python wrapper (https://github.com/ucfopen/canvasapi) to interact with the MIT Canvas courses you authored."
   ]
  },
  {
   "cell_type": "code",
   "execution_count": 34,
   "metadata": {},
   "outputs": [],
   "source": [
    "#import modules\n",
    "from canvasapi import Canvas\n",
    "import json\n",
    "from os import path\n",
    "import numpy as np\n",
    "import pandas as pd\n"
   ]
  },
  {
   "cell_type": "code",
   "execution_count": 75,
   "metadata": {},
   "outputs": [],
   "source": [
    "#1. MIT Canvas API endpoint:\n",
    "API_URL = \"https://canvas.mit.edu/api/v1\"\n",
    "\n",
    "#2. Canvas credentials\n",
    "cred_file_path = \".\" #Specify if your credential file is elsewhere\n",
    "cred_file2 = path.join(cred_file_path, \"cred.json\")\n",
    "with open(cred_file2,'r') as cred2:\n",
    "    cred_json = json.load(cred2)\n",
    "\n",
    "API_KEY = cred_json['ACCES_TOKEN']\n",
    "\n",
    "#3. Data upload/download paths:\n",
    "data_upload = \"data_upload\"\n",
    "data_download = \"data_download\""
   ]
  },
  {
   "cell_type": "code",
   "execution_count": 36,
   "metadata": {},
   "outputs": [],
   "source": [
    "# Initialize a new Canvas object\n",
    "canvas = Canvas(API_URL, API_KEY)"
   ]
  },
  {
   "cell_type": "markdown",
   "metadata": {},
   "source": [
    "### Get the course objects for your Canvas courses"
   ]
  },
  {
   "cell_type": "code",
   "execution_count": 37,
   "metadata": {},
   "outputs": [
    {
     "name": "stdout",
     "output_type": "stream",
     "text": [
      "3145 Canvas Core Team Sandbox\n",
      "3156 MIT Canvas Resources for Instructors\n",
      "4970 ODL Residential Sandbox\n",
      "4974 Temporary Sandbox\n"
     ]
    }
   ],
   "source": [
    "#This fetches information for all courses you have access to:\n",
    "courses = canvas.get_courses()\n",
    "for c_ in courses[:10]:\n",
    "    print(c_.id, c_.name)"
   ]
  },
  {
   "cell_type": "markdown",
   "metadata": {},
   "source": [
    "### Let's  get some more information about these courses:\n",
    "\n",
    "Let's find the number of files and assignments in each courses, and find the most recent time of update for any file or assignment.\n",
    "\n",
    "We will print out the results as a Pandas dataframe."
   ]
  },
  {
   "cell_type": "code",
   "execution_count": 72,
   "metadata": {},
   "outputs": [],
   "source": [
    "def get_course_info(course_id):\n",
    "    '''This function gets the course information and the file/assignment update times,\n",
    "    by the course_id, and returns a list of courses, numbers of files and assignemtns,\n",
    "    and the time of the most recent update for each course.\n",
    "    \n",
    "    INPUT: course_id\n",
    "    \n",
    "    OUTPUT: A list of 5 elements: ['course_id','course_name','Num_files','Num_assignments',\n",
    "    'Most_recent_update']. Could be all None if there is an exception.\n",
    "    '''\n",
    "    try:\n",
    "        c1 = canvas.get_course(course_id)\n",
    "        course_name = c1.name\n",
    "\n",
    "        files_ = c1.get_files()\n",
    "        assn_ = c1.get_assignments()\n",
    "        \n",
    "        #Get the file updated times as a list\n",
    "        file_utimes = [f_.updated_at.strip(\"Z\") for f_ in files_]\n",
    "\n",
    "        #Get the assignment updated times as a list\n",
    "        assn_utimes = [a_.updated_at.strip(\"Z\") for a_ in assn_]\n",
    "        \n",
    "        #Combine all timestamps, and convert the timestamps to datetime64 type\n",
    "        fa_times = file_utimes + assn_utimes\n",
    "        fa_times = np.array(fa_times, dtype='datetime64')\n",
    "        last_update_at = fa_times.max()\n",
    "        \n",
    "        return [c1.id, course_name, len(file_utimes), len(assn_utimes), last_update_at]\n",
    "    except Exception as e:\n",
    "        print(\"Error {} for course {}\".format(e, course_id))\n",
    "        return [None, None, None, None, None]"
   ]
  },
  {
   "cell_type": "code",
   "execution_count": 73,
   "metadata": {},
   "outputs": [
    {
     "data": {
      "text/html": [
       "<div>\n",
       "<style scoped>\n",
       "    .dataframe tbody tr th:only-of-type {\n",
       "        vertical-align: middle;\n",
       "    }\n",
       "\n",
       "    .dataframe tbody tr th {\n",
       "        vertical-align: top;\n",
       "    }\n",
       "\n",
       "    .dataframe thead th {\n",
       "        text-align: right;\n",
       "    }\n",
       "</style>\n",
       "<table border=\"1\" class=\"dataframe\">\n",
       "  <thead>\n",
       "    <tr style=\"text-align: right;\">\n",
       "      <th></th>\n",
       "      <th>course_id</th>\n",
       "      <th>course_name</th>\n",
       "      <th>Num_files</th>\n",
       "      <th>Num_assignments</th>\n",
       "      <th>Most_recent_update</th>\n",
       "    </tr>\n",
       "  </thead>\n",
       "  <tbody>\n",
       "    <tr>\n",
       "      <th>0</th>\n",
       "      <td>3145</td>\n",
       "      <td>Canvas Core Team Sandbox</td>\n",
       "      <td>11</td>\n",
       "      <td>15</td>\n",
       "      <td>2020-07-07 15:02:45</td>\n",
       "    </tr>\n",
       "    <tr>\n",
       "      <th>1</th>\n",
       "      <td>3156</td>\n",
       "      <td>MIT Canvas Resources for Instructors</td>\n",
       "      <td>60</td>\n",
       "      <td>0</td>\n",
       "      <td>2020-06-08 09:42:17</td>\n",
       "    </tr>\n",
       "    <tr>\n",
       "      <th>2</th>\n",
       "      <td>4970</td>\n",
       "      <td>ODL Residential Sandbox</td>\n",
       "      <td>24</td>\n",
       "      <td>3</td>\n",
       "      <td>2020-07-17 17:54:21</td>\n",
       "    </tr>\n",
       "    <tr>\n",
       "      <th>3</th>\n",
       "      <td>4974</td>\n",
       "      <td>Temporary Sandbox</td>\n",
       "      <td>23</td>\n",
       "      <td>4</td>\n",
       "      <td>2020-07-29 14:58:24</td>\n",
       "    </tr>\n",
       "  </tbody>\n",
       "</table>\n",
       "</div>"
      ],
      "text/plain": [
       "   course_id                           course_name  Num_files  \\\n",
       "0       3145              Canvas Core Team Sandbox         11   \n",
       "1       3156  MIT Canvas Resources for Instructors         60   \n",
       "2       4970               ODL Residential Sandbox         24   \n",
       "3       4974                     Temporary Sandbox         23   \n",
       "\n",
       "   Num_assignments  Most_recent_update  \n",
       "0               15 2020-07-07 15:02:45  \n",
       "1                0 2020-06-08 09:42:17  \n",
       "2                3 2020-07-17 17:54:21  \n",
       "3                4 2020-07-29 14:58:24  "
      ]
     },
     "execution_count": 73,
     "metadata": {},
     "output_type": "execute_result"
    }
   ],
   "source": [
    "course_info_list = []\n",
    "course_info_cols = ['course_id','course_name','Num_files','Num_assignments','Most_recent_update']\n",
    "for c_ in courses:\n",
    "    course_info_list.append(get_course_info(c_.id))\n",
    "    \n",
    "course_info_df = pd.DataFrame.from_records(course_info_list, columns=course_info_cols)\n",
    "course_info_df"
   ]
  },
  {
   "cell_type": "markdown",
   "metadata": {},
   "source": [
    "### Let's upload a file.\n",
    "\n",
    "We will upload the test file from the data_upload folder to the \"Temporary Sandbox\" course (4974)\n",
    "It goes in the \"unfiled\" folder under the \"files\" section of the course"
   ]
  },
  {
   "cell_type": "code",
   "execution_count": 33,
   "metadata": {},
   "outputs": [
    {
     "data": {
      "text/plain": [
       "(True,\n",
       " {'location': 'https://canvas.mit.edu/api/v1/files/546871?include%5B%5D=enhanced_preview_url',\n",
       "  'instfs_uuid': '6be07789-2364-419c-a632-04c53312685f',\n",
       "  'id': 546871,\n",
       "  'uuid': '92aE9TJOPNlq7II9lPyTNiIZiFtXFH8N8Z7i2Hgo',\n",
       "  'folder_id': 276045,\n",
       "  'display_name': 'test_file',\n",
       "  'filename': 'test_file.txt',\n",
       "  'upload_status': 'success',\n",
       "  'content-type': 'text/plain',\n",
       "  'url': 'https://canvas.mit.edu/files/546871/download?download_frd=1&verifier=92aE9TJOPNlq7II9lPyTNiIZiFtXFH8N8Z7i2Hgo',\n",
       "  'size': 55,\n",
       "  'created_at': '2020-07-29T14:57:39Z',\n",
       "  'updated_at': '2020-07-29T14:57:39Z',\n",
       "  'unlock_at': None,\n",
       "  'locked': False,\n",
       "  'hidden': False,\n",
       "  'lock_at': None,\n",
       "  'hidden_for_user': False,\n",
       "  'thumbnail_url': None,\n",
       "  'modified_at': '2020-07-29T14:57:39Z',\n",
       "  'mime_class': 'text',\n",
       "  'media_entry_id': None,\n",
       "  'locked_for_user': False,\n",
       "  'preview_url': '/courses/4974/files/546871/file_preview?annotate=0'})"
      ]
     },
     "execution_count": 33,
     "metadata": {},
     "output_type": "execute_result"
    }
   ],
   "source": [
    "file_to_upload = \"test_file\" #name of the file in the upload folder\n",
    "file_ = path.join(data_upload, file_to_upload) #define the file path\n",
    "\n",
    "course_id = 4974 #be sure of the course id\n",
    "c1 = canvas.get_course(course_id) #get the course object\n",
    "c1.upload(file_)"
   ]
  },
  {
   "cell_type": "markdown",
   "metadata": {},
   "source": [
    "### Conclusions\n",
    "\n",
    "This concludes the quick demo. Follow the URLs below (especially the course section) to see example use cases. Let us know if you are using it, and if you have any questions.\n",
    "\n",
    "#### References:\n",
    "1. https://canvasapi.readthedocs.io/ for the entire Canvas API Python wrapper\n",
    "2. https://canvasapi.readthedocs.io/en/stable/course-ref.html for the section on courses\n",
    "3. https://canvas.instructure.com/doc/api/index.html for the Canvas API documentation and keywords that may be missing from the Python wrapper documentation"
   ]
  }
 ],
 "metadata": {
  "kernelspec": {
   "display_name": "Python 3",
   "language": "python",
   "name": "python3"
  },
  "language_info": {
   "codemirror_mode": {
    "name": "ipython",
    "version": 3
   },
   "file_extension": ".py",
   "mimetype": "text/x-python",
   "name": "python",
   "nbconvert_exporter": "python",
   "pygments_lexer": "ipython3",
   "version": "3.6.3"
  }
 },
 "nbformat": 4,
 "nbformat_minor": 2
}
